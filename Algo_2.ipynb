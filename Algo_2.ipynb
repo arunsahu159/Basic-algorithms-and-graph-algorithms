{
  "cells": [
    {
      "cell_type": "code",
      "execution_count": 1,
      "metadata": {
        "id": "KbNUY_xg_5MG"
      },
      "outputs": [],
      "source": [
        "import random\n",
        "import networkx as nx"
      ]
    },
    {
      "cell_type": "markdown",
      "metadata": {
        "id": "49QOTQ3jDfbD"
      },
      "source": [
        "### **Familiarization**"
      ]
    },
    {
      "cell_type": "code",
      "execution_count": null,
      "metadata": {
        "colab": {
          "base_uri": "https://localhost:8080/"
        },
        "id": "gg4UGIUxADrS",
        "outputId": "0b39d687-70ea-4481-80e0-5a31d21d7a09"
      },
      "outputs": [
        {
          "name": "stdout",
          "output_type": "stream",
          "text": [
            "Graph with 10 nodes and 9 edges\n",
            "Graph with 3 nodes and 0 edges\n"
          ]
        }
      ],
      "source": [
        "G=nx.Graph() #Creating and empty graph\n",
        "G.add_node(1) #Adding a node to the graph\n",
        "G.add_nodes_from([2,3])  #without attributes for the node\n",
        "# G.add_nodes_from([(2,{\"color\":\"red\"}),(3,{\"color\":\"green\"})]) #with attritubes for the nodes\n",
        "H=nx.path_graph(10)\n",
        "print(H)\n",
        "print(G)"
      ]
    },
    {
      "cell_type": "code",
      "execution_count": null,
      "metadata": {
        "id": "o1kFsXCTiInf"
      },
      "outputs": [],
      "source": [
        "A=nx.Graph()\n",
        "# A.add_nodes_from([1,2]) #[labels]\n",
        "A.add_nodes_from([\n",
        "    (4, {\"color\": \"red\"}),\n",
        "    (5, {\"color\": \"green\"}),\n",
        "])\n",
        "A[4]\n",
        "A.add_edge(4,5)\n",
        "nx.draw(A,with_labels=True)"
      ]
    },
    {
      "cell_type": "code",
      "execution_count": null,
      "metadata": {
        "id": "UKTSHVaAncvN"
      },
      "outputs": [],
      "source": [
        "A = nx.Graph(day=\"Friday\")\n",
        "if A.graph[\"day\"]==\"Friday\":\n",
        "  A.graph\n",
        "# {'day': 'Friday'}"
      ]
    },
    {
      "cell_type": "markdown",
      "metadata": {
        "id": "FEITTMtbcFRs"
      },
      "source": [
        "### PreOrder and PostOrder traversal Iteratively"
      ]
    },
    {
      "cell_type": "code",
      "execution_count": null,
      "metadata": {
        "id": "Tt6tGLPrcE7t"
      },
      "outputs": [],
      "source": [
        "class Tree():\n",
        "  def __init__(self,key):\n",
        "    self.left=None\n",
        "    self.right=None\n",
        "    self.val=key\n",
        "  \n",
        "  def insert(self, val):\n",
        "    if self.val:\n",
        "        if val < self.val:\n",
        "          if self.left is None:\n",
        "              self.left = Tree(val)\n",
        "          else:\n",
        "              self.left.insert(val)\n",
        "        elif val > self.val:\n",
        "          if self.right is None:\n",
        "              self.right = Tree(val)\n",
        "          else:\n",
        "              self.right.insert(val)\n",
        "        else:\n",
        "          self.val = val\n",
        "  def write(self):\n",
        "    if self.left:\n",
        "      self.left.write()\n",
        "    print( self.val)\n",
        "    if self.right:\n",
        "        self.right.write()\n",
        "\n",
        "\n",
        "\n",
        "# root = Tree(1)\n",
        "# i=2\n",
        "# while i in range(7):\n",
        "#   root.insert(i)\n",
        "#   i+=1\n",
        "# Tree.write(root)\n",
        "\n"
      ]
    },
    {
      "cell_type": "code",
      "execution_count": null,
      "metadata": {
        "colab": {
          "base_uri": "https://localhost:8080/"
        },
        "id": "I6X3Q2BTcvvG",
        "outputId": "21b64b60-abef-4127-9ede-df51d419ab5f"
      },
      "outputs": [
        {
          "name": "stdout",
          "output_type": "stream",
          "text": [
            "[1, 2, 3, 4, 5, 6]\n"
          ]
        }
      ],
      "source": [
        "visited = []\n",
        "def preOrderIterative(root):\n",
        "  if root == None:\n",
        "    return \n",
        "  stack = []\n",
        "  stack.append(root)\n",
        "  while stack:\n",
        "    node = stack.pop()\n",
        "    visited.append(node.val)\n",
        "    if node.right!=None:\n",
        "      stack.append(node.right)\n",
        "    if node.left!=None:\n",
        "      stack.append(node.left)\n",
        "  print(visited)  \n",
        "\n",
        "root = Tree(1)\n",
        "i=2\n",
        "while i in range(7):\n",
        "  root.insert(i)\n",
        "  i+=1\n",
        "# Tree.write(root)\n",
        "\n",
        "\n",
        "preOrderIterative(root)\n",
        "\n",
        "\n",
        "\n"
      ]
    },
    {
      "cell_type": "code",
      "execution_count": null,
      "metadata": {
        "colab": {
          "base_uri": "https://localhost:8080/"
        },
        "id": "lM5d_tFrhtYx",
        "outputId": "4454e39a-c748-428a-d269-d0106b4df0da"
      },
      "outputs": [
        {
          "name": "stdout",
          "output_type": "stream",
          "text": [
            "[5, 9, 7]\n"
          ]
        }
      ],
      "source": [
        "def postOrderIterative(root):\n",
        "  traversal=[]\n",
        "  stack = [(root,'t')]\n",
        "  while stack:\n",
        "    (node,purpose) = stack.pop()\n",
        "    if node:\n",
        "      if purpose == 'p':\n",
        "        traversal.append(node.val)\n",
        "      else:\n",
        "        stack.append((node,'p'))\n",
        "        stack.append((node.right,'t'))\n",
        "        stack.append((node.left,'t'))\n",
        "  print(traversal)\n",
        "\n",
        "# root = Tree(1)\n",
        "# i=2\n",
        "# while i in range(8):\n",
        "#   root.insert(i)\n",
        "#   i+=1\n",
        "# Tree.write(root)\n",
        "root = Tree(7)\n",
        "root.insert(5)\n",
        "root.insert(9)\n",
        "\n",
        "postOrderIterative(root)"
      ]
    },
    {
      "cell_type": "markdown",
      "metadata": {
        "id": "KyMoB3aUCxxb"
      },
      "source": [
        "### **Generate Random Graph**"
      ]
    },
    {
      "cell_type": "code",
      "execution_count": null,
      "metadata": {
        "id": "CBZBT5s1CxLk"
      },
      "outputs": [],
      "source": [
        "def generateRandomGraph(nodes):\n",
        "    G = nx.Graph()                                  #creating an empty graph\n",
        "    # if(nodes<2):\n",
        "    #     print(\"please enter more than 2 nodes\")\n",
        "    #     return G\n",
        "    for i in range(nodes):                        # Adding nodes to the graph\n",
        "        G.add_node(i)\n",
        "        # print(i)\n",
        "    for i in range(nodes):\n",
        "        x = random.randrange(0,nodes)             #Generating two random numbers to create an edge\n",
        "        y = random.randrange(0,nodes)\n",
        "        while y==x:                            # condition so that there are no self edge\n",
        "            y = random.randint(0,nodes)\n",
        "        G.add_edge(x,y)                       #Adding an edge to the graph\n",
        "    return G\n"
      ]
    },
    {
      "cell_type": "code",
      "execution_count": null,
      "metadata": {
        "colab": {
          "base_uri": "https://localhost:8080/",
          "height": 319
        },
        "id": "TKn9xDKStOs8",
        "outputId": "e397ff73-e935-4da3-d19c-bcc8da1c57bc"
      },
      "outputs": [
        {
          "data": {
            "image/png": "[encoded data removed]",
            "text/plain": [
              "<Figure size 432x288 with 1 Axes>"
            ]
          },
          "metadata": {},
          "output_type": "display_data"
        }
      ],
      "source": [
        "A = generateRandomGraph(2)\n",
        "nx.draw(A,with_labels=True)"
      ]
    },
    {
      "cell_type": "markdown",
      "metadata": {
        "id": "k2ILRDBYEU7l"
      },
      "source": [
        "### **Generate Random Digraph**"
      ]
    },
    {
      "cell_type": "code",
      "execution_count": null,
      "metadata": {
        "id": "4Y-OpSqyEVcM"
      },
      "outputs": [],
      "source": [
        "def generateRandomDigraph(nodes):\n",
        "    G = nx.DiGraph()                    #creating a empty directed graph\n",
        "    V=G.nodes(data=True)                #setting a node attrribute to true\n",
        "    # if(nodes<2):\n",
        "    #     print(\"please enter more than 2 nodes\")\n",
        "    #     return G\n",
        "    iterations = nodes -1             #so that there is no bidirectional edge\n",
        "    for i in range(nodes):         \n",
        "        G.add_node(i)                  #adding nodes to the graph\n",
        "        V[i][\"on path\"]=False          #setting the attribute on path to false\n",
        "    for i in range(iterations):\n",
        "        x = random.randint(0,nodes)\n",
        "        y = random.randint(0,nodes)\n",
        "        while y==x:\n",
        "            y = random.randint(0,nodes)\n",
        "        G.add_edge(x,y)\n",
        "    return G"
      ]
    },
    {
      "cell_type": "code",
      "execution_count": null,
      "metadata": {
        "colab": {
          "base_uri": "https://localhost:8080/",
          "height": 336
        },
        "id": "t7Z0VLBMuxjo",
        "outputId": "00d6645a-692c-42e5-e530-39580b0e1896"
      },
      "outputs": [
        {
          "data": {
            "text/plain": [
              "[1]"
            ]
          },
          "execution_count": 58,
          "metadata": {},
          "output_type": "execute_result"
        },
        {
          "data": {
            "image/png": "[encoded data removed]",
            "text/plain": [
              "<Figure size 432x288 with 1 Axes>"
            ]
          },
          "metadata": {},
          "output_type": "display_data"
        }
      ],
      "source": [
        "B = generateRandomDigraph(2)\n",
        "nx.draw(B,with_labels=True)"
      ]
    },
    {
      "cell_type": "code",
      "execution_count": 2,
      "metadata": {
        "colab": {
          "base_uri": "https://localhost:8080/",
          "height": 319
        },
        "id": "9bN2aHzEEfr7",
        "outputId": "2c5b131e-2638-4b38-9c00-4b5aa5ca14b9"
      },
      "outputs": [
        {
          "data": {
            "image/png": "[encoded data removed]",
            "text/plain": [
              "<Figure size 432x288 with 1 Axes>"
            ]
          },
          "metadata": {},
          "output_type": "display_data"
        }
      ],
      "source": [
        "dh = nx.DiGraph()\n",
        "dh.add_edges_from([(1,2),(1,6),(2,3),(3,4),(3,5),(5,4),(5,2),(7,5),(6,7),(1,5)])\n",
        "V=dh.nodes(data=True)\n",
        "for node in dh:\n",
        "    V[node][\"onpath\"] = False\n",
        "dTree = nx.DiGraph()\n",
        "nx.draw(dh,with_labels=True)"
      ]
    },
    {
      "cell_type": "code",
      "execution_count": 3,
      "metadata": {
        "id": "w9G_5ULhEpTj"
      },
      "outputs": [],
      "source": [
        "visited = []\n",
        "dfsNumberedGraph = []"
      ]
    },
    {
      "cell_type": "markdown",
      "metadata": {
        "id": "2cpEGIRxE9t2"
      },
      "source": [
        "### **DFS**"
      ]
    },
    {
      "cell_type": "code",
      "execution_count": null,
      "metadata": {
        "id": "vj0fES-YErWD"
      },
      "outputs": [],
      "source": [
        "def dfs(G,node):\n",
        "    if node not in visited:\n",
        "        visited.append(node)\n",
        "        for nbdnode in G[node]:\n",
        "            if nbdnode not in visited:\n",
        "                dfs(G,nbdnode)"
      ]
    },
    {
      "cell_type": "code",
      "execution_count": null,
      "metadata": {
        "id": "xCuKsLzqwORQ"
      },
      "outputs": [],
      "source": [
        "dfs(dh,1)\n",
        "print(visited)"
      ]
    },
    {
      "cell_type": "markdown",
      "metadata": {
        "id": "oBaEGG7_FBVQ"
      },
      "source": [
        "### **DFS Iterative**"
      ]
    },
    {
      "cell_type": "code",
      "execution_count": null,
      "metadata": {
        "colab": {
          "base_uri": "https://localhost:8080/"
        },
        "id": "6p7vlBf090v4",
        "outputId": "d778971b-4fd3-41d2-a1c1-1b3cde5c9f94"
      },
      "outputs": [
        {
          "name": "stdout",
          "output_type": "stream",
          "text": [
            "[1, 2, 3, 4, 5, 6, 7]\n"
          ]
        }
      ],
      "source": [
        "visited =[]\n",
        "def dfsIterative(G,node):\n",
        "  stack = []\n",
        "  stack.append(node)\n",
        "  while stack:\n",
        "    vertex = stack.pop()\n",
        "    if vertex not in visited:\n",
        "      visited.append(vertex)\n",
        "    for nbdnode in dict(reversed(list(G[vertex].items()))):\n",
        "      if nbdnode not in visited:\n",
        "        stack.append(nbdnode)\n",
        "  \n",
        "\n",
        "\n",
        "# dfsIterative(dh,1)\n",
        "# dh[1]\n",
        "print(visited)"
      ]
    },
    {
      "cell_type": "markdown",
      "metadata": {
        "id": "AmGdaWPsFAl7"
      },
      "source": [
        "### **DFS Numbering**"
      ]
    },
    {
      "cell_type": "code",
      "execution_count": null,
      "metadata": {
        "id": "mSnW5UGvEtTb"
      },
      "outputs": [],
      "source": [
        "def dfsNumbering(lst):\n",
        "    i=1\n",
        "    for node in lst:\n",
        "        dfsNumberedGraph.append((node,i))\n",
        "        i+=1"
      ]
    },
    {
      "cell_type": "markdown",
      "metadata": {
        "id": "u2zeq_hIFFLL"
      },
      "source": [
        "### **DFS Tree**"
      ]
    },
    {
      "cell_type": "code",
      "execution_count": 4,
      "metadata": {
        "id": "vPqbIlv0EgoD"
      },
      "outputs": [],
      "source": [
        "def dfsTree(G,dTree,node):\n",
        "    v=G.nodes(data=True)\n",
        "    if node not in visited:\n",
        "        visited.append(node)\n",
        "        v[node][\"on path\"] = True\n",
        "        for nbdnode in G.successors(node):\n",
        "            if nbdnode not in visited:\n",
        "                dTree.add_edge(node,nbdnode,color='black')\n",
        "                dfsTree(G,dTree,nbdnode)\n",
        "            else:\n",
        "                nodeIndex = visited.index(node)+1\n",
        "                nbdnodeIndex = visited.index(nbdnode)+1\n",
        "                if v[nbdnode][\"on path\"]==False:\n",
        "                    if nodeIndex>nbdnodeIndex:\n",
        "                        dTree.add_edge(node,nbdnode,color='r')\n",
        "                    else:\n",
        "                       dTree.add_edge(node,nbdnode,color='g')\n",
        "                else:\n",
        "                    if nodeIndex>nbdnodeIndex:\n",
        "                        dTree.add_edge(node,nbdnode,color='b')\n",
        "                    \n",
        "        v[node][\"on path\"] = False"
      ]
    },
    {
      "cell_type": "code",
      "execution_count": 7,
      "metadata": {
        "id": "9AVhp05mE8K0"
      },
      "outputs": [
        {
          "data": {
            "image/png": "[encoded data removed]",
            "text/plain": [
              "<Figure size 432x288 with 1 Axes>"
            ]
          },
          "metadata": {},
          "output_type": "display_data"
        }
      ],
      "source": [
        "colors = nx.get_edge_attributes(dTree,'color').values()\n",
        "\n",
        "dfsTree(dh,dTree,1)\n",
        "nx.draw(dTree,edge_color=colors,with_labels = True)"
      ]
    },
    {
      "cell_type": "markdown",
      "metadata": {
        "id": "UyQ6_4RKJuAx"
      },
      "source": [
        "### **Preorder Traversal**"
      ]
    },
    {
      "cell_type": "code",
      "execution_count": null,
      "metadata": {
        "id": "JXwt1GGpJtXp"
      },
      "outputs": [],
      "source": [
        "traversed = []\n",
        "def preOrder(G,node):\n",
        "    if node not in traversed:\n",
        "        traversed.append(node)\n",
        "        for nbdnode in G[node]:\n",
        "            if nbdnode not in traversed:\n",
        "                preOrder(G,nbdnode)"
      ]
    },
    {
      "cell_type": "code",
      "execution_count": null,
      "metadata": {
        "id": "JKuxHMvKLOQ6"
      },
      "outputs": [],
      "source": [
        "C = nx.balanced_tree(2,2)\n",
        "nx.draw(C,with_labels=True)\n",
        "preOrder(C,0)\n",
        "print(traversed) "
      ]
    },
    {
      "cell_type": "markdown",
      "metadata": {
        "id": "xTcBlrNDL8p5"
      },
      "source": [
        "### **PostOrder Traversal**"
      ]
    },
    {
      "cell_type": "code",
      "execution_count": null,
      "metadata": {
        "id": "qHLzd539MAqC"
      },
      "outputs": [],
      "source": [
        "traversed = []\n",
        "trav = []\n",
        "def postOrder(G,node):\n",
        "    if node not in traversed:\n",
        "        for nbdnode in G[node]:\n",
        "          if node not in trav:\n",
        "            trav.append(node)\n",
        "          if nbdnode not in traversed:\n",
        "            if nbdnode not in trav:\n",
        "              postOrder(G,nbdnode)\n",
        "        traversed.append(node)"
      ]
    },
    {
      "cell_type": "code",
      "execution_count": null,
      "metadata": {
        "id": "2hTUW7FoMXPo"
      },
      "outputs": [],
      "source": [
        "D = nx.balanced_tree(2,2)\n",
        "nx.draw(D,with_labels=True)\n",
        "postOrder(D,0)\n",
        "print(traversed) "
      ]
    }
  ],
  "metadata": {
    "colab": {
      "provenance": []
    },
    "kernelspec": {
      "display_name": "Python 3.8.10 64-bit",
      "language": "python",
      "name": "python3"
    },
    "language_info": {
      "codemirror_mode": {
        "name": "ipython",
        "version": 3
      },
      "file_extension": ".py",
      "mimetype": "text/x-python",
      "name": "python",
      "nbconvert_exporter": "python",
      "pygments_lexer": "ipython3",
      "version": "3.8.10"
    },
    "vscode": {
      "interpreter": {
        "hash": "e7370f93d1d0cde622a1f8e1c04877d8463912d04d973331ad4851f04de6915a"
      }
    }
  },
  "nbformat": 4,
  "nbformat_minor": 0
}
