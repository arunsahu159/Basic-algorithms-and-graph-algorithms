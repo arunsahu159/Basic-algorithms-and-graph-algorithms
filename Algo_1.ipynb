{
  "cells": [
    {
      "cell_type": "markdown",
      "source": [
        "### **Content**\n",
        "\n",
        "\n",
        "> **1.** [Partition](#scrollTo=UKxdv41fqEti)<br>\n",
        "> **2.** [Quick sort](#scrollTo=jUnOEtSWMjZQ)<br>\n",
        "> **3.** [Quotient and remainder](#scrollTo=4MkkKbIAqkH0)<br>\n",
        "> **4.** [GCD](#scrollTo=8___orFm6zLx)<br>\n",
        "> **5.** [Selection  Sort](#scrollTo=5XhdkSINV9FT)<br>\n",
        "> **6.** [Binary Search (left most element](#scrollTo=gyYHP0RBzmDd)<br>\n",
        "> **7.** [Binary Search (Right most element)](#scrollTo=z9SPH5VkWBys)<br>\n",
        "> **8.** [ Merge Sort](#scrollTo=7E58h84Q4JXh)<br>\n",
        "> **9.** [Counting Sort](#scrollTo=3oigM0LZJYII)<br>\n",
        "> **10.** [Partition Using Median](#scrollTo=HXTypdU-VSSb)<br>\n",
        "> **11.** [3 Way Partition](#scrollTo=ho6-wEY5hjcY)<br>\n",
        "> **12.** [Bubble Sort](#scrollTo=CAEm_8wZW3aS)<br>\n",
        "> **13.** [Heap Sort](#scrollTo=q41_rug17oQv)<br>\n",
        "> **14.** [Radix Sort](#scrollTo=KAeNZOuBHKf-)<br>\n",
        "> **15.** [Min and Max by divide and conquer](#scrollTo=EDNPKASWAc60)<br>\n",
        "> **16.** [Strassen's Algorithm](#scrollTo=pWJ6E4qZMsLO)<br>\n",
        "> **17.** [Karastuba Algorithm](#scrollTo=4MZlmYsRRyKL)<br>\n",
        "> **18.** [Uniformly Shuffling](#scrollTo=BOpFkb0lZPdE)<br>\n",
        "> **19.** [Frog Jumping usinf uniform distribution](#scrollTo=gf6PNWrSfGUN)<br>\n",
        "> **20.** [Frog Jumping using Gaussian distribution](#scrollTo=4dZQyUQ4bOKq)<br>\n",
        "> **21.** [Frog jumping using normal distribution](#scrollTo=-bABxph3gRal)\n",
        "<br>\n",
        "> **22.** [Frog jumping using exponential distribution](#scrollTo=4ny5CBzUgk9x)<br>\n",
        "> **23.** [Randomizing List](#scrollTo=pET6D6DFcpUh)<br>\n",
        "> **24.** [Median using 3 way partition](#scrollTo=tmOZb3y8dFaZ)<br>\n",
        "> **25.** [Hiring Firing](#scrollTo=_ouX_Nrg3Msn)<br>\n",
        "> **26.** [Chair Problem](#scrollTo=4w2y49Zw6OY4)<br>\n",
        "> **27.** [Covolution 1D](#scrollTo=MBub7MN9f8iQ)<br>"
      ],
      "metadata": {
        "id": "p_khk0n_Bsrt"
      }
    },
    {
      "cell_type": "code",
      "source": [
        "import sys\n",
        "import random\n",
        "import math\n",
        "import statistics\n",
        "import numpy as np\n",
        "import matplotlib.pyplot as plt"
      ],
      "metadata": {
        "id": "Gmo6KdzkZjzR"
      },
      "execution_count": null,
      "outputs": []
    },
    {
      "cell_type": "markdown",
      "source": [
        "# Partition of Elements (Taking first element as *Pivot element*)<br>\n",
        "\n",
        "\n",
        "\n",
        "* **i** is the number of elements less than pivot<br>\n",
        "* **j** is the number of elements greater than pivot till now<br>\n",
        "* **(j-i)** is the loop variant<br>\n",
        "* **(i<=j)** is the termination condition<br>\n",
        "\n",
        "\n",
        "\n"
      ],
      "metadata": {
        "id": "dvyjs9hfxSGn"
      }
    },
    {
      "cell_type": "code",
      "execution_count": null,
      "metadata": {
        "id": "UKxdv41fqEti"
      },
      "outputs": [],
      "source": [
        "def partition (lst,l,r):\n",
        "  i=l+1\n",
        "  j=r\n",
        "  x=lst[l]\n",
        "  while i<=j:\n",
        "    if lst[i]<=x:\n",
        "      i=i+1\n",
        "    elif lst[j]>x:\n",
        "      j=j-1\n",
        "    else:\n",
        "      lst[i],lst[j]=lst[j],lst[i]\n",
        "      i,j=i+1,j-1\n",
        "  lst[l],lst[i-1]=lst[i-1],lst[l]\n",
        "  return i-1"
      ]
    },
    {
      "cell_type": "markdown",
      "source": [
        "### **Quick Sort**   *using pivot element as first element* \n",
        "\n",
        "\n"
      ],
      "metadata": {
        "id": "Dqud5MyR3lXa"
      }
    },
    {
      "cell_type": "code",
      "source": [
        "def quicksort(l, r, lst):\n",
        "    if len(lst) == 1: \n",
        "      return lst\n",
        "    if l < r:\n",
        "        m = partition(lst,l,r)\n",
        "        quicksort(l, m-1, lst)  \n",
        "        quicksort(m+1, r, lst)  \n",
        "    return lst\n",
        "\n",
        "lst=[7,1,4,-3,1,45,1,6,72,4] \n",
        "# lst=[9,2,8,1,6,1]\n",
        "l=0\n",
        "r=len(lst)-1\n",
        "print(quicksort(l,r,lst))\n"
      ],
      "metadata": {
        "id": "jUnOEtSWMjZQ"
      },
      "execution_count": null,
      "outputs": []
    },
    {
      "cell_type": "markdown",
      "source": [
        "### Finding **quotient** and **remainder** for two **non negative integers**\n",
        "* **(a-b)** is the loop variant\n",
        "* **i** is the number of times dividend is subtracted from divisor"
      ],
      "metadata": {
        "id": "TET4zTf0xjQi"
      }
    },
    {
      "cell_type": "code",
      "execution_count": null,
      "metadata": {
        "id": "4MkkKbIAqkH0",
        "colab": {
          "base_uri": "https://localhost:8080/"
        },
        "outputId": "ea72435f-8e1e-4abb-9e44-8d20ef65099a"
      },
      "outputs": [
        {
          "output_type": "stream",
          "name": "stdout",
          "text": [
            "Enter the dividend:4\n",
            "Enter the divisor:2\n",
            "The quotient is:  2\n",
            "The remiander is:  0\n"
          ]
        }
      ],
      "source": [
        "a=int(input(\"Enter the dividend:\"))\n",
        "b=int(input(\"Enter the divisor:\"))\n",
        "i=0\n",
        "while (a-b)>=0:\n",
        "  diff = a-b\n",
        "  a = diff\n",
        "  i+=1\n",
        "print(\"The quotient is: \",i)\n",
        "print(\"The remiander is: \",a)"
      ]
    },
    {
      "cell_type": "markdown",
      "source": [
        "### **GCD**"
      ],
      "metadata": {
        "id": "t4ubdMZZa4cE"
      }
    },
    {
      "cell_type": "code",
      "source": [
        "a=int(input())\n",
        "b=int(input())\n",
        "# P: a=bq+r  Loop invariant\n",
        "# t: r       loop variant\n",
        "q,r=0,a\n",
        "print(a==b*q+r )\n",
        "while r>=b:\n",
        "  r=r-b\n",
        "  q=q+1\n",
        "print(a==b*q+r )\n",
        "print(q)\n",
        "print(r)"
      ],
      "metadata": {
        "id": "8___orFm6zLx"
      },
      "execution_count": null,
      "outputs": []
    },
    {
      "cell_type": "markdown",
      "source": [
        "### **Selection Sort**<br>\n",
        "min function returns the index of the minimum element<br>\n",
        "**Initialization** i= number of elements smaller than the current minimum element.<br>\n",
        "**Loop invariant** is lst<br>\n",
        "**Loop variant** is n-i+1<br>\n",
        "**Termination condition** i< length (lst)"
      ],
      "metadata": {
        "id": "3l7RmY39WSX8"
      }
    },
    {
      "cell_type": "code",
      "source": [
        "def min_index(lst,j):\n",
        "  #lst=[1,4,2,1]\n",
        "  min=lst[j]\n",
        "  m_index=j\n",
        "  while j<len(lst):\n",
        "    if lst[j]<min:\n",
        "      min=lst[j]\n",
        "      m_index=j\n",
        "    j+=1\n",
        "  return m_index\n",
        "\n",
        "lst=[1,4,2,1]\n",
        "i=0\n",
        "while i<len(lst):\n",
        "  index=min_index(lst,i)\n",
        "  if lst[i]!=lst[index]:\n",
        "    lst[i],lst[index]=lst[index],lst[i]\n",
        "  i+=1\n",
        "print(lst)"
      ],
      "metadata": {
        "id": "5XhdkSINV9FT",
        "colab": {
          "base_uri": "https://localhost:8080/"
        },
        "outputId": "07972495-d46f-47b1-c16b-c38d65e8d47e"
      },
      "execution_count": null,
      "outputs": [
        {
          "output_type": "stream",
          "name": "stdout",
          "text": [
            "[1, 1, 2, 4]\n"
          ]
        }
      ]
    },
    {
      "cell_type": "markdown",
      "source": [
        "### **Binary Search** (*Finding the left most element*) <br>\n",
        "* **x** is the element to be searched\n",
        "* **(r-l)** is the loop invariant\n",
        "* ** l!=r ** is the termination condition"
      ],
      "metadata": {
        "id": "5_j_llDlzmaE"
      }
    },
    {
      "cell_type": "code",
      "source": [
        "lst=[0,1,2,3,3,3,5,6]\n",
        "x=1\n",
        "l=0\n",
        "r=len(lst)-1\n",
        "while l!=r:\n",
        "  m=(l+r)//2     \n",
        "  if x<=lst[m]:\n",
        "    r=m\n",
        "  else:\n",
        "    l=m+1\n",
        "if lst[l]==x:\n",
        "  print(\"The element is present in \", l,\" position\")\n",
        "else:\n",
        "  print(\"The element is not present in the list\")"
      ],
      "metadata": {
        "id": "gyYHP0RBzmDd",
        "colab": {
          "base_uri": "https://localhost:8080/"
        },
        "outputId": "5c2182d4-b7b5-4c80-ea6c-df29107bda2a"
      },
      "execution_count": null,
      "outputs": [
        {
          "output_type": "stream",
          "name": "stdout",
          "text": [
            "The element is present in  1  position\n"
          ]
        }
      ]
    },
    {
      "cell_type": "markdown",
      "source": [
        "### **Binary Search** *(Finding the right most element)* <br>\n"
      ],
      "metadata": {
        "id": "D2Gd1zJ0WCtR"
      }
    },
    {
      "cell_type": "code",
      "source": [
        "lst=[0,1,2,3,3,3,3,3,5,5,5,5,6]\n",
        "x=3\n",
        "l=0\n",
        "r=len(lst)-1\n",
        "while l!=r:\n",
        "  # m=(l+r)//2\n",
        "  m=math.ceil((l+r)/2) \n",
        "  if x<lst[m]:\n",
        "    r=m-1\n",
        "  else:\n",
        "    l=m\n",
        "if lst[l]==x:\n",
        "  print(\"The element is present in \", l,\" position\")\n",
        "else:\n",
        "  print(\"The element is not present in the list\")\n"
      ],
      "metadata": {
        "id": "z9SPH5VkWBys"
      },
      "execution_count": null,
      "outputs": []
    },
    {
      "cell_type": "markdown",
      "source": [
        "### **Merge Sort**<br>\n",
        "* **(m-i)** and **(r-j)** is the loop variants<br>\n",
        " "
      ],
      "metadata": {
        "id": "Td-EzjnU4GE-"
      }
    },
    {
      "cell_type": "code",
      "source": [
        "def merge(lst,l,r,m):\n",
        "  i=l\n",
        "  j=m+1\n",
        "  sorted_lst=[]\n",
        "  while i<=m and j<=r:\n",
        "    if lst[i]<=lst[j]:\n",
        "      sorted_lst.append(lst[i])\n",
        "      i+=1\n",
        "    else:\n",
        "      sorted_lst.append(lst[j])\n",
        "      j+=1\n",
        "  while i<=m:\n",
        "    sorted_lst.append(lst[i])\n",
        "    i+=1\n",
        "  while j<=r:\n",
        "    sorted_lst.append(lst[j])\n",
        "    j+=1\n",
        "  lst[l:r+1]=sorted_lst\n",
        "  \n",
        "\n",
        "def mergeSort(lst,l,r):\n",
        "  m=(l+r)//2\n",
        "  if l<r:\n",
        "    mergeSort(lst,l,m)\n",
        "    mergeSort(lst,m+1,r)\n",
        "    merge(lst,l,r,m)\n",
        "\n",
        "lst=[1,3,26,4,56,6]\n",
        "l=0\n",
        "r=len(lst)-1\n",
        "mergeSort(lst,l,r)\n",
        "print(lst)"
      ],
      "metadata": {
        "id": "7E58h84Q4JXh"
      },
      "execution_count": null,
      "outputs": []
    },
    {
      "cell_type": "markdown",
      "source": [
        "### **Counting Sort**\n",
        "* **i** is the number of elemnts sorted<br>\n",
        "* **j** is the number of times an elements is present\n",
        "\n"
      ],
      "metadata": {
        "id": "sBwOjqfBUt4h"
      }
    },
    {
      "cell_type": "code",
      "source": [
        "lst=[51,52,50,54,55,54,58,56,51,51,51,52,100,54]\n",
        "maxi=max(lst)\n",
        "mini=min(lst)\n",
        "#print(maxi,mini)\n",
        "i=0\n",
        "counting_lst=[]\n",
        "size=maxi-mini+1\n",
        "while i<size:\n",
        "  counting_lst.append(0)\n",
        "  i+=1\n",
        "i=0\n",
        "while i<len(lst):\n",
        "  counting_lst[lst[i]-mini]+=1\n",
        "  i+=1\n",
        "i=0\n",
        "while i<len(counting_lst):\n",
        "  for j in range(0,counting_lst[i]):\n",
        "    print(i+mini,end=\" \")\n",
        "  i+=1\n",
        "#print(counting_lst)\n"
      ],
      "metadata": {
        "id": "3oigM0LZJYII"
      },
      "execution_count": null,
      "outputs": []
    },
    {
      "cell_type": "markdown",
      "source": [
        "### **Partition using *median***\n",
        "* **(j-i)** is the loop variant<br>\n",
        "* **i** is the number of elements that are less then the pivot element"
      ],
      "metadata": {
        "id": "Xf7EaCD7VObr"
      }
    },
    {
      "cell_type": "code",
      "source": [
        "import statistics\n",
        "def partition (lst,l,r):\n",
        "  i=l\n",
        "  j=r\n",
        "  k=(l+r)//2\n",
        "  median_ele=[lst[i],lst[j],lst[k]]\n",
        "  median=statistics.median(median_ele)\n",
        "  if lst[j]==median:\n",
        "    lst[i],lst[j]=lst[j],lst[i]\n",
        "  elif lst[k]==median:\n",
        "    lst[i],lst[k]=lst[k],lst[i]\n",
        "  x=lst[l]\n",
        "  #print(median,x)\n",
        "  while i<=j:\n",
        "    if lst[i]<=x:\n",
        "      i=i+1\n",
        "    elif lst[j]>x:\n",
        "      j=j-1\n",
        "    else:\n",
        "      lst[i],lst[j]=lst[j],lst[i]\n",
        "      i,j=i+1,j-1\n",
        "  lst[l],lst[i-1]=lst[i-1],lst[l]\n",
        "  #return i-1\n",
        "\n",
        "lst=[1,2,54,5,69,87]\n",
        "partition(lst,0,len(lst)-1)\n",
        "print(lst)"
      ],
      "metadata": {
        "id": "HXTypdU-VSSb"
      },
      "execution_count": null,
      "outputs": []
    },
    {
      "cell_type": "markdown",
      "source": [
        "### **3 Way partition**\n",
        "* **(k-j)** is the loop variant"
      ],
      "metadata": {
        "id": "bOne921TXcwD"
      }
    },
    {
      "cell_type": "code",
      "source": [
        "def partition3 (lst,l,r):\n",
        "  i,j,k=l,l,r\n",
        "  x=lst[l]\n",
        "  while j<k:\n",
        "    if lst[j]==x:\n",
        "      j+=1\n",
        "    elif lst[j]<x:\n",
        "      lst[i],lst[j]=lst[j],lst[i]\n",
        "      i+=1\n",
        "      j+=1\n",
        "    else:\n",
        "      lst[k-1],lst[j]=lst[j],lst[k-1] \n",
        "      k=k-1\n",
        "    # print(\"swapped:\",lst)\n",
        "  return i,k\n",
        "\n",
        "def quicksort(l, r, lst):\n",
        "    if len(lst) == 1: \n",
        "      return lst\n",
        "    if l < r-1:\n",
        "        m,n = partition3(lst,l,r)\n",
        "        quicksort(l, m, lst)  \n",
        "        quicksort(n, r, lst)  \n",
        "    return lst\n",
        "# lst=[random.randrange(1, 1000,1) for i in range(1000)]\n",
        "# quicksort(0,len(lst),lst)\n",
        "lst=[1,3,4,5,2]\n",
        "m,n=partition3(lst,1,5)\n",
        "print(lst,m,n)"
      ],
      "metadata": {
        "id": "ho6-wEY5hjcY",
        "colab": {
          "base_uri": "https://localhost:8080/"
        },
        "outputId": "486c0eef-c3ee-4f55-f147-f20cf2841524"
      },
      "execution_count": null,
      "outputs": [
        {
          "output_type": "stream",
          "name": "stdout",
          "text": [
            "[1, 2, 3, 5, 4] 2 3\n"
          ]
        }
      ]
    },
    {
      "cell_type": "markdown",
      "source": [
        "### **Bubble Sort**"
      ],
      "metadata": {
        "id": "N4jXFuXRW0xj"
      }
    },
    {
      "cell_type": "code",
      "source": [
        "def bubbleSort(lst):\n",
        "  counter=0\n",
        "  length=len(lst)\n",
        "  trav=0\n",
        "  while trav<length-1:\n",
        "    i,j=0,1\n",
        "    while i<length-1 and j<length:\n",
        "      if lst[i]>lst[j]:\n",
        "        lst[i],lst[j]=lst[j],lst[i]\n",
        "        counter=0\n",
        "      else:\n",
        "        counter+=1\n",
        "      if counter==len(lst)-1:\n",
        "        return\n",
        "      i+=1\n",
        "      j+=1\n",
        "    trav+=1\n",
        "lst=[10,2,85,5,9,1]\n",
        "bubbleSort(lst)\n",
        "print(lst)"
      ],
      "metadata": {
        "id": "CAEm_8wZW3aS"
      },
      "execution_count": null,
      "outputs": []
    },
    {
      "cell_type": "markdown",
      "source": [
        "### **counting sort boundary case**"
      ],
      "metadata": {
        "id": "gyaW4tBHaXmD"
      }
    },
    {
      "cell_type": "code",
      "source": [
        "\n",
        "lst=[51,52,50,54,5.5,54,58,56,51,51,51,52,100,54]\n",
        "maxi=max(lst)\n",
        "mini=min(lst)\n",
        "#print(maxi,mini)\n",
        "i=0\n",
        "counting_lst=[]\n",
        "size=maxi-mini+1\n",
        "while i<size:\n",
        "  counting_lst.append(0)\n",
        "  i+=1\n",
        "i=0\n",
        "while i<len(lst):\n",
        "  try:\n",
        "    counting_lst[lst[i]-mini]+=1\n",
        "  except:\n",
        "    print(\"Floating point number encountered in the list\")\n",
        "    sys.exit()\n",
        "  i+=1\n",
        "i=0\n",
        "while i<len(counting_lst):\n",
        "  for j in range(0,counting_lst[i]):\n",
        "    print(i+mini,end=\" \")\n",
        "  i+=1\n",
        "#print(counting_lst)"
      ],
      "metadata": {
        "id": "t9QkBteTabJX"
      },
      "execution_count": null,
      "outputs": []
    },
    {
      "cell_type": "markdown",
      "source": [
        "### **Heap Sort**<br>\n",
        "* leaf is the number of leaves in the binary tree<br>\n",
        "* index is the parent of the last leaf\n",
        "* **Loop invariant** is n-index-1\n",
        "* **Termination condition** is index>=0\n",
        "* **Loop variant** is index"
      ],
      "metadata": {
        "id": "-_5QdzEUsUCn"
      }
    },
    {
      "cell_type": "code",
      "source": [
        "def heapify(lst,leng):\n",
        "  leaf = math.ceil((leng)/2)  #number of leaves\n",
        "  index = (leng)-leaf-1       #parent of the last leaf\n",
        "  \n",
        "  while index>=0:    #Termination condition\n",
        "    curr=index\n",
        "    while (2*curr+1) <leng:\n",
        "      flag=False\n",
        "      left=2*curr+1\n",
        "      right=2*curr+2\n",
        "      if lst[left]>lst[curr]:     #check for Max_Heap\n",
        "        swap_i=2*curr+1\n",
        "        flag=True\n",
        "      if lst[right]>lst[curr] and lst[right]>lst[left]:\n",
        "        swap_i=2*curr+2\n",
        "        flag=True\n",
        "      if flag:\n",
        "        lst[curr],lst[swap_i]=lst[swap_i],lst[curr]\n",
        "        curr=swap_i\n",
        "      else:           #Satisfying Max_Heap condition\n",
        "        break     \n",
        "    index-=1\n",
        "\n",
        "def heapsort(lst):\n",
        "  leng = len(lst)-1\n",
        "  while leng>0:\n",
        "    heapify(lst,leng)\n",
        "    lst[0],lst[leng] = lst[leng],lst[0] #keeping the greatest element in the last position\n",
        "    leng-=1 #The last position is in the current position\n",
        "    \n",
        "\n",
        "lst=[5,2,8,1,6,10,7,82,1000]\n",
        "heapsort(lst)\n",
        "print(lst)"
      ],
      "metadata": {
        "id": "q41_rug17oQv",
        "outputId": "e6aae8bc-5653-42f5-816f-6b07610b6bf1",
        "colab": {
          "base_uri": "https://localhost:8080/"
        }
      },
      "execution_count": null,
      "outputs": [
        {
          "output_type": "stream",
          "name": "stdout",
          "text": [
            "[1, 2, 5, 6, 7, 8, 10, 82, 1000]\n"
          ]
        }
      ]
    },
    {
      "cell_type": "markdown",
      "source": [
        "### **Radix Sort**\n",
        "* **Loop invariant** is count-i\n",
        "* **i** is the place for which the element is sorted\n",
        "* **j** is the number of element sorted for ith place\n",
        "* **Loop variant** is i=i+1 "
      ],
      "metadata": {
        "id": "35MRw_vy-v3h"
      }
    },
    {
      "cell_type": "code",
      "source": [
        "def radixSort(lst):\n",
        "  l=len(lst)\n",
        "  i=0\n",
        "  pow=0\n",
        "  j=0\n",
        "  maxi=max(lst)\n",
        "  count=math.floor(math.log(maxi,10)+1)\n",
        "  dic={0:[],1:[],2:[],3:[],4:[],5:[],6:[],7:[],8:[],9:[]}\n",
        "  while i<count:\n",
        "    while j<l:\n",
        "      num=lst[j]\n",
        "      digit=(num//(10**pow))%10\n",
        "      dic[digit].append(lst[j])\n",
        "      j+=1\n",
        "    del(lst[:])\n",
        "    for key, val in dic.items():\n",
        "      for k in val:\n",
        "        lst.append(k)\n",
        "    dic.clear()\n",
        "    dic={0:[],1:[],2:[],3:[],4:[],5:[],6:[],7:[],8:[],9:[]}\n",
        "    pow+=1\n",
        "    i+=1\n",
        "    j=0\n",
        "  print(lst)\n",
        "\n",
        "lst=[25,312,96,72,2]\n",
        "radixSort(lst)\n",
        "        \n"
      ],
      "metadata": {
        "id": "KAeNZOuBHKf-"
      },
      "execution_count": null,
      "outputs": []
    },
    {
      "cell_type": "markdown",
      "source": [
        "### **Finding Min And Max**<br>\n",
        "**By divide and conquer rule**"
      ],
      "metadata": {
        "id": "a1lFTs-KAdK8"
      }
    },
    {
      "cell_type": "code",
      "source": [
        "def min_max(lst,l,r):\n",
        "  m=(l+r)//2\n",
        "  if l==r:\n",
        "    return lst[l],lst[r]\n",
        "  min1,max1=min_max(lst,l,m)\n",
        "  min2,max2=min_max(lst,m+1,r)\n",
        "  if min1<min2:\n",
        "    if max1<max2:\n",
        "      return min1,max2\n",
        "    else:\n",
        "      return min1,max1\n",
        "  else:\n",
        "    if max1<max2:\n",
        "      return min2,max2\n",
        "    else:\n",
        "      return min2,max1\n",
        "\n",
        "\n",
        "lst=[7,8,1,2,5,9,-1,3]\n",
        "mini,maxi=min_max(lst,0,len(lst)-1)\n",
        "print(mini,maxi)"
      ],
      "metadata": {
        "id": "EDNPKASWAc60"
      },
      "execution_count": null,
      "outputs": []
    },
    {
      "cell_type": "markdown",
      "source": [
        "### **Strassens Algorithm for matrix multiplication**\n"
      ],
      "metadata": {
        "id": "2ikDqGEVMozf"
      }
    },
    {
      "cell_type": "code",
      "source": [
        "def strassen(x, y):\n",
        "    if x.size == 1 or y.size == 1:\n",
        "        return x * y\n",
        "\n",
        "    n= x.shape[0]\n",
        "    # print(n,m)\n",
        "    if n%2==1:                                      #making it 2^n x 2^n\n",
        "        x = np.pad(x, (0, 1), mode='constant')\n",
        "        y = np.pad(y, (0, 1), mode='constant')\n",
        "       \n",
        "\n",
        "    m = int(np.ceil(n / 2))\n",
        "    a = x[: m, : m]\n",
        "    b = x[: m, m:]\n",
        "    c = x[m:, : m]\n",
        "    d = x[m:, m:]\n",
        "\n",
        "    e = y[: m, : m]\n",
        "    f = y[: m, m:]\n",
        "    g = y[m:, : m]\n",
        "    h = y[m:, m:]\n",
        "\n",
        "    p1 = strassen(a, f - h)\n",
        "    p2 = strassen(a + b, h)\n",
        "    p3 = strassen(c + d, e)\n",
        "    p4 = strassen(d, g - e)\n",
        "    p5 = strassen(a + d, e + h)\n",
        "    p6 = strassen(b - d, g + h)\n",
        "    p7 = strassen(a - c, e + f)\n",
        "    result = np.zeros((2 * m, 2 * m), dtype=np.int32)\n",
        "    result[: m, : m] = p5 + p4 - p2 + p6\n",
        "    result[: m, m:] = p1 + p2\n",
        "    result[m:, : m] = p3 + p4\n",
        "    result[m:, m:] = p1 + p5 - p3 - p7\n",
        "\n",
        "    return result[: n, : n]\n",
        "\n",
        "\n",
        "x = np.array([[1, 0, 0], [0, 1, 0], [0, 0, 1]])\n",
        "y = np.array([[-1, 0, 0], [0, -1, 0], [0, 0, -1]])\n",
        "print(strassen(x, y))"
      ],
      "metadata": {
        "id": "pWJ6E4qZMsLO"
      },
      "execution_count": null,
      "outputs": []
    },
    {
      "cell_type": "markdown",
      "source": [
        "### **Karastuba Algorithm for multiplying two integeres**"
      ],
      "metadata": {
        "id": "G3b5cX7UHIwh"
      }
    },
    {
      "cell_type": "code",
      "source": [
        "def karatsuba(x,y):\n",
        "\tif len(str(x)) == 1 or len(str(y)) == 1:\n",
        "\t\treturn x*y\n",
        "\telse:\n",
        "\t\tn = max(len(str(x)),len(str(y)))\n",
        "\t\tnby2 = n / 2\n",
        "\t\t\n",
        "\t\ta = x / 10**(nby2)\n",
        "\t\tb = x % 10**(nby2)\n",
        "\t\tc = y / 10**(nby2)\n",
        "\t\td = y % 10**(nby2)\n",
        "\t\t\n",
        "\t\tac = karatsuba(a,c)\n",
        "\t\tbd = karatsuba(b,d)\n",
        "\t\tad_plus_bc = karatsuba(a+b,c+d) - ac - bd\n",
        "        \n",
        "        \t#writing n as 2*nby2 takes care of both even and odd n\n",
        "\t\tprod = ac * 10**(2*nby2) + (ad_plus_bc * 10**nby2) + bd\n",
        "\n",
        "\t\treturn prod\n",
        "\n",
        "x=450\n",
        "\n",
        "y=2\n",
        "xy=karatsuba(x,y)\n",
        "print(xy)"
      ],
      "metadata": {
        "id": "4MZlmYsRRyKL",
        "colab": {
          "base_uri": "https://localhost:8080/"
        },
        "outputId": "b5e32b47-047a-4462-fe74-2e70858b75d5"
      },
      "execution_count": null,
      "outputs": [
        {
          "output_type": "stream",
          "name": "stdout",
          "text": [
            "900\n"
          ]
        }
      ]
    },
    {
      "cell_type": "markdown",
      "source": [
        "### **Uniformingly Shuffling**"
      ],
      "metadata": {
        "id": "Ivf5AYzdZKHD"
      }
    },
    {
      "cell_type": "code",
      "source": [
        "def shuffle(lst):\n",
        "  for i in range (0,len(lst)-1):\n",
        "    x=random.randrange(i+1,len(lst))\n",
        "    lst[i],lst[x]=lst[x],lst[i]\n",
        "\n",
        "lst=[]\n",
        "for i in range(1,1001):\n",
        "  lst.append(i)\n",
        "shuffle(lst)\n",
        "print(lst)\n",
        "plt.plot(lst)"
      ],
      "metadata": {
        "id": "BOpFkb0lZPdE",
        "colab": {
          "base_uri": "https://localhost:8080/",
          "height": 320
        },
        "outputId": "c980275c-c0a0-4264-c595-81a97757c800"
      },
      "execution_count": null,
      "outputs": [
        {
          "output_type": "stream",
          "name": "stdout",
          "text": [
            "[422, 443, 256, 276, 369, 977, 310, 938, 834, 493, 971, 841, 622, 351, 112, 762, 28, 608, 880, 789, 188, 155, 282, 970, 644, 937, 242, 734, 477, 366, 672, 874, 482, 298, 103, 45, 966, 334, 91, 139, 525, 677, 849, 537, 936, 686, 60, 750, 154, 5, 353, 324, 412, 643, 982, 43, 144, 660, 911, 346, 763, 63, 95, 619, 933, 728, 940, 808, 416, 638, 852, 709, 519, 440, 319, 848, 279, 360, 429, 786, 780, 472, 891, 459, 201, 190, 147, 745, 25, 329, 625, 774, 800, 946, 331, 70, 206, 996, 150, 15, 347, 197, 863, 865, 257, 722, 805, 328, 883, 238, 359, 743, 268, 530, 725, 294, 104, 340, 244, 444, 336, 972, 9, 134, 430, 66, 295, 543, 713, 685, 730, 902, 341, 202, 872, 21, 79, 39, 961, 41, 152, 410, 271, 327, 339, 988, 10, 753, 480, 903, 44, 642, 185, 850, 662, 998, 442, 910, 224, 423, 169, 830, 581, 577, 714, 655, 164, 600, 503, 246, 695, 820, 623, 733, 11, 42, 860, 107, 963, 893, 264, 120, 396, 633, 466, 391, 611, 657, 570, 985, 23, 895, 239, 356, 34, 599, 151, 915, 114, 178, 844, 826, 300, 441, 626, 362, 545, 221, 133, 920, 377, 355, 86, 618, 232, 559, 595, 223, 652, 18, 402, 157, 541, 296, 696, 136, 433, 553, 601, 54, 348, 53, 705, 135, 890, 395, 729, 365, 13, 858, 491, 688, 499, 646, 597, 816, 701, 691, 148, 514, 269, 403, 481, 773, 258, 421, 373, 308, 267, 801, 934, 99, 252, 40, 796, 405, 788, 944, 995, 145, 779, 492, 760, 262, 945, 183, 127, 795, 670, 92, 323, 975, 759, 434, 593, 857, 845, 281, 868, 427, 521, 212, 236, 71, 200, 419, 199, 333, 497, 511, 815, 791, 305, 755, 673, 105, 48, 376, 976, 425, 379, 122, 374, 309, 797, 149, 484, 634, 12, 89, 272, 84, 823, 727, 927, 102, 50, 590, 523, 153, 438, 22, 128, 749, 778, 992, 679, 274, 723, 690, 352, 596, 629, 819, 812, 406, 485, 873, 822, 573, 515, 457, 398, 474, 989, 712, 602, 108, 748, 635, 794, 605, 261, 516, 83, 390, 683, 840, 772, 742, 292, 72, 702, 952, 726, 958, 674, 453, 488, 667, 889, 533, 181, 983, 928, 680, 775, 304, 354, 994, 476, 787, 380, 291, 180, 558, 909, 214, 255, 817, 473, 589, 798, 141, 216, 176, 116, 648, 394, 87, 811, 208, 941, 322, 959, 413, 715, 392, 847, 953, 960, 584, 78, 630, 851, 562, 703, 651, 400, 30, 124, 884, 345, 716, 799, 694, 138, 706, 566, 869, 415, 69, 479, 211, 969, 522, 121, 551, 704, 158, 411, 929, 259, 856, 233, 321, 404, 918, 782, 707, 653, 658, 737, 609, 870, 594, 287, 456, 896, 435, 613, 117, 454, 496, 251, 790, 752, 372, 471, 724, 803, 957, 699, 132, 248, 312, 661, 231, 711, 591, 814, 409, 636, 700, 853, 311, 899, 925, 432, 75, 399, 531, 198, 567, 783, 574, 887, 325, 168, 587, 250, 314, 843, 478, 769, 586, 100, 935, 204, 118, 576, 382, 342, 967, 744, 770, 758, 35, 160, 678, 939, 984, 129, 218, 234, 284, 520, 571, 809, 900, 275, 991, 463, 736, 771, 513, 877, 647, 721, 143, 437, 210, 980, 765, 361, 408, 81, 447, 280, 458, 592, 908, 682, 838, 615, 697, 710, 426, 580, 731, 277, 561, 572, 776, 254, 343, 821, 924, 526, 14, 126, 428, 290, 557, 186, 301, 106, 448, 245, 804, 61, 968, 892, 196, 907, 344, 681, 162, 894, 219, 955, 575, 861, 332, 617, 962, 806, 504, 161, 461, 507, 616, 508, 766, 500, 536, 501, 111, 326, 436, 159, 222, 510, 33, 810, 835, 951, 828, 215, 832, 875, 498, 240, 668, 882, 67, 610, 115, 489, 401, 370, 17, 335, 846, 36, 64, 77, 965, 905, 4, 265, 3, 738, 384, 82, 535, 792, 469, 949, 80, 68, 528, 732, 746, 956, 483, 266, 837, 397, 692, 997, 628, 431, 226, 637, 460, 337, 839, 641, 943, 165, 777, 824, 866, 179, 1000, 793, 94, 781, 569, 93, 55, 767, 583, 751, 184, 579, 330, 241, 317, 517, 1, 101, 871, 110, 979, 189, 614, 906, 109, 320, 831, 358, 867, 468, 901, 38, 881, 954, 367, 534, 90, 656, 195, 588, 187, 288, 921, 387, 624, 393, 29, 24, 855, 381, 578, 357, 424, 912, 756, 2, 123, 65, 666, 378, 59, 981, 649, 303, 192, 836, 375, 785, 490, 475, 693, 754, 631, 260, 213, 389, 220, 550, 546, 318, 554, 923, 142, 568, 612, 140, 740, 297, 764, 299, 452, 888, 194, 113, 529, 987, 98, 916, 386, 247, 207, 665, 544, 549, 32, 225, 417, 689, 451, 654, 560, 73, 539, 26, 761, 818, 350, 446, 418, 659, 719, 464, 97, 627, 49, 445, 315, 175, 88, 564, 854, 978, 243, 371, 802, 465, 467, 784, 205, 904, 833, 273, 283, 173, 167, 6, 640, 621, 76, 862, 607, 964, 518, 58, 420, 913, 922, 407, 74, 829, 950, 307, 898, 639, 191, 885, 146, 487, 825, 505, 450, 878, 604, 156, 556, 663, 864, 698, 289, 687, 999, 827, 876, 313, 172, 914, 897, 973, 249, 739, 603, 524, 193, 302, 166, 632, 8, 986, 338, 27, 650, 555, 509, 671, 807, 253, 137, 565, 16, 585, 495, 46, 414, 229, 548, 542, 455, 293, 388, 757, 306, 163, 177, 363, 203, 364, 286, 708, 85, 486, 990, 228, 930, 20, 974, 56, 540, 859, 237, 886, 462, 675, 669, 547, 552, 813, 170, 171, 119, 926, 502, 209, 385, 270, 606, 263, 718, 620, 842, 470, 527, 582, 316, 942, 57, 130, 368, 741, 174, 538, 747, 7, 349, 645, 917, 285, 563, 494, 506, 19, 230, 947, 125, 948, 598, 62, 131, 676, 720, 235, 768, 993, 932, 879, 217, 532, 931, 37, 449, 717, 512, 182, 31, 52, 278, 919, 684, 96, 51, 439, 227, 47, 735, 383, 664]\n"
          ]
        },
        {
          "output_type": "execute_result",
          "data": {
            "text/plain": [
              "[<matplotlib.lines.Line2D at 0x7f57e123d6d0>]"
            ]
          },
          "metadata": {},
          "execution_count": 5
        },
        {
          "output_type": "display_data",
          "data": {
            "text/plain": [
              "<Figure size 432x288 with 1 Axes>"
            ],
            "image/png": "[encoded data removed]"
          },
          "metadata": {
            "needs_background": "light"
          }
        }
      ]
    },
    {
      "cell_type": "markdown",
      "source": [
        "### **Gifts Collection Problem**\n"
      ],
      "metadata": {
        "id": "eYTMD0ATZtxw"
      }
    },
    {
      "cell_type": "code",
      "source": [
        "def giftcollection():\n",
        "  n=10000\n",
        "  lst=[]\n",
        "  niece=[]\n",
        "  count=0\n",
        "  for i in range (1,101):\n",
        "    lst.append(i)\n",
        "  for i in range (0,n-100):\n",
        "    lst.append(random.randrange(1,101))\n",
        "  shuffle(lst)\n",
        "\n",
        "  while len(niece)!=100:\n",
        "    x=random.randrange(1,n)\n",
        "    if lst[x] not in niece:\n",
        "      niece.append(lst[x])\n",
        "    count+=1\n",
        "  return count\n",
        "avg=0\n",
        "for i in range(0,1000):\n",
        "  avg+=giftcollection()\n",
        "print(avg//1000)\n"
      ],
      "metadata": {
        "id": "efVB2m2oZiEb",
        "colab": {
          "base_uri": "https://localhost:8080/"
        },
        "outputId": "fe835c00-d68c-494a-e291-449a35028217"
      },
      "execution_count": null,
      "outputs": [
        {
          "output_type": "stream",
          "name": "stdout",
          "text": [
            "536\n"
          ]
        }
      ]
    },
    {
      "cell_type": "markdown",
      "source": [
        "### **Jumping Frog**\n",
        "\n",
        "> Using uniform distribution\n"
      ],
      "metadata": {
        "id": "zwQfZYgxe86-"
      }
    },
    {
      "cell_type": "code",
      "source": [
        "def frogjumping(jump,steps):\n",
        "  # jump=5\n",
        "  frog=jump\n",
        "  count=0\n",
        "  while frog<steps:\n",
        "    jump=random.randrange(frog+1,steps+1)\n",
        "    frog=jump\n",
        "    count+=1\n",
        "  return count\n",
        "\n",
        "avg=0\n",
        "iter= 100000\n",
        "steps = 100\n",
        "for i in range(0,iter):\n",
        "  avg+=frogjumping(0,steps)\n",
        "\n",
        "print(avg//iter)"
      ],
      "metadata": {
        "colab": {
          "base_uri": "https://localhost:8080/"
        },
        "id": "gf6PNWrSfGUN",
        "outputId": "cf3c7471-9641-49f4-89f8-1282daab974d"
      },
      "execution_count": null,
      "outputs": [
        {
          "output_type": "stream",
          "name": "stdout",
          "text": [
            "5\n"
          ]
        }
      ]
    },
    {
      "cell_type": "markdown",
      "source": [
        "### **Jumping Frog**\n",
        "\n",
        "> Using Gauss distribution\n",
        "\n",
        "\n"
      ],
      "metadata": {
        "id": "uEumAI8ea3n-"
      }
    },
    {
      "cell_type": "code",
      "source": [
        "def frogjumping(jump,steps,sig,mean):\n",
        "  frog=jump\n",
        "  count=0\n",
        "  lst=[]\n",
        "  for i in range(steps):\n",
        "    lst.append(int(random.gauss(mean,sigma)))\n",
        "  # plt.hist(lst)\n",
        "  i=0\n",
        "  while frog<steps:\n",
        "    jump=lst[i]\n",
        "    frog+=jump\n",
        "    count+=1\n",
        "    i+=1\n",
        "  return count\n",
        "\n",
        "avg = 0\n",
        "iter = 10000\n",
        "steps = 100\n",
        "sigma = 100\n",
        "mean = 3*sigma+1\n",
        "for i in range(0,iter):\n",
        "  avg+=frogjumping(0,steps,sigma,mean)\n",
        "\n",
        "print(avg//iter)\n",
        "\n"
      ],
      "metadata": {
        "id": "4dZQyUQ4bOKq",
        "colab": {
          "base_uri": "https://localhost:8080/"
        },
        "outputId": "b3b26d27-8ea6-4c5c-96a5-e14bfc6dd7cf"
      },
      "execution_count": null,
      "outputs": [
        {
          "output_type": "stream",
          "name": "stdout",
          "text": [
            "1\n"
          ]
        }
      ]
    },
    {
      "cell_type": "markdown",
      "source": [
        "### **Jumping Frog**\n",
        "> Normal Distribution\n"
      ],
      "metadata": {
        "id": "HB9c1rdIgLue"
      }
    },
    {
      "cell_type": "code",
      "source": [
        "def frogjumping(jump,steps):\n",
        "  frog=jump\n",
        "  count=0\n",
        "  lst=[]\n",
        "  for i in range(steps):\n",
        "    lst.append(int(random.normalvariate(50,100)))\n",
        "  mini=abs(min(lst))\n",
        "  for i in range(steps):\n",
        "    lst[i]+=mini\n",
        "  i=0\n",
        "  while frog<steps:\n",
        "    jump=lst[i]\n",
        "    frog+=jump\n",
        "    count+=1\n",
        "    i+=1\n",
        "  return count\n",
        "\n",
        "avg = 0\n",
        "iter = 10000\n",
        "steps = 100\n",
        "for i in range(0,iter):\n",
        "  avg+=frogjumping(0,steps)\n",
        "\n",
        "print(avg//iter)\n",
        "\n"
      ],
      "metadata": {
        "colab": {
          "base_uri": "https://localhost:8080/"
        },
        "id": "-bABxph3gRal",
        "outputId": "bc292ec3-92ee-4de3-ab0c-491c95619375"
      },
      "execution_count": null,
      "outputs": [
        {
          "output_type": "stream",
          "name": "stdout",
          "text": [
            "1\n"
          ]
        }
      ]
    },
    {
      "cell_type": "markdown",
      "source": [
        "### **Jumping Frog**\n",
        "> Exponential Distribution\n"
      ],
      "metadata": {
        "id": "SUa3jF_ZgdJP"
      }
    },
    {
      "cell_type": "code",
      "source": [
        "\n",
        "def frogjumping(jump,steps):\n",
        "  frog=jump\n",
        "  count=0\n",
        "  lst=[]\n",
        "  for i in range(steps):\n",
        "    lst.append(int(random.expovariate(1.5)))\n",
        "  # print(lst)\n",
        "  for i in range(steps):\n",
        "    lst[i]+=1\n",
        "  i=0\n",
        "  while frog<steps:\n",
        "    jump=lst[i]\n",
        "    frog+=jump\n",
        "    count+=1\n",
        "    i+=1\n",
        "  return count\n",
        "\n",
        "avg = 0\n",
        "iter = 10000\n",
        "steps = 100\n",
        "for i in range(0,iter):\n",
        "  avg+=frogjumping(0,steps)\n",
        "\n",
        "print(avg//iter)\n",
        "\n"
      ],
      "metadata": {
        "colab": {
          "base_uri": "https://localhost:8080/"
        },
        "id": "4ny5CBzUgk9x",
        "outputId": "3ba5d9f2-b4c0-455a-f21c-2fa2876e95e8"
      },
      "execution_count": null,
      "outputs": [
        {
          "output_type": "stream",
          "name": "stdout",
          "text": [
            "77\n"
          ]
        }
      ]
    },
    {
      "cell_type": "markdown",
      "source": [
        "### **Different way of randomizing list**"
      ],
      "metadata": {
        "id": "eZQumEf1clBM"
      }
    },
    {
      "cell_type": "code",
      "source": [
        "lst = [1,2,3,4,5,6,7,8,9]\n",
        "x = math.pow(len(lst),2)\n",
        "\n",
        "newlst = []\n",
        "for i in range(0,len(lst)):\n",
        "  newlst.append((random.randrange(1,x),i))\n",
        "newlst.sort(key=lambda y: y[0])\n",
        "k=0\n",
        "for (i,j)  in newlst:\n",
        "  lst[k],lst[j]=lst[j],lst[k]\n",
        "  k+=1\n",
        "print(lst)"
      ],
      "metadata": {
        "colab": {
          "base_uri": "https://localhost:8080/"
        },
        "id": "pET6D6DFcpUh",
        "outputId": "9074f377-d186-4b1a-9419-ce1cdcc6b4b9"
      },
      "execution_count": null,
      "outputs": [
        {
          "output_type": "stream",
          "name": "stdout",
          "text": [
            "[3, 1, 2, 4, 6, 7, 8, 9, 5]\n"
          ]
        }
      ]
    },
    {
      "cell_type": "markdown",
      "source": [
        "### **Median using 3 way partition**"
      ],
      "metadata": {
        "id": "n780uCuEc_j3"
      }
    },
    {
      "cell_type": "markdown",
      "source": [
        "### **Normal Distribution**"
      ],
      "metadata": {
        "id": "08AbqG_bKaqi"
      }
    },
    {
      "cell_type": "code",
      "source": [
        "import numpy as np\n",
        "import matplotlib.pyplot as plt\n",
        "import statistics\n",
        "def normal_dist():\n",
        "  mean=50\n",
        "  sd=100\n",
        "  new_lst=[]\n",
        "  for i in range(0,101):\n",
        "    new_lst.append(int(random.gauss(mean,sd)))\n",
        "  mini=abs(min(new_lst))\n",
        "  new_lst=np.array(new_lst)+mini\n",
        "  # plt.hist(new_lst)\n",
        "  return new_lst\n"
      ],
      "metadata": {
        "id": "AjhvHkgcKdYK"
      },
      "execution_count": null,
      "outputs": []
    },
    {
      "cell_type": "code",
      "source": [
        "mean=50\n",
        "sd=100\n",
        "new_lst=[]\n",
        "for i in range(0,101):\n",
        "  x=-1\n",
        "  while x<0:\n",
        "    x = int(np.random.normal(mean,sd))\n",
        "  new_lst.append(x)\n",
        "# print(new_lst)\n",
        "plt.hist(new_lst)"
      ],
      "metadata": {
        "colab": {
          "base_uri": "https://localhost:8080/",
          "height": 334
        },
        "id": "h4RmslrXG17Y",
        "outputId": "85629ae5-bab5-411a-9142-026722463f00"
      },
      "execution_count": null,
      "outputs": [
        {
          "output_type": "execute_result",
          "data": {
            "text/plain": [
              "(array([17., 18., 20., 18., 10.,  8.,  5.,  2.,  2.,  1.]),\n",
              " array([  1. ,  34.9,  68.8, 102.7, 136.6, 170.5, 204.4, 238.3, 272.2,\n",
              "        306.1, 340. ]),\n",
              " <a list of 10 Patch objects>)"
            ]
          },
          "metadata": {},
          "execution_count": 18
        },
        {
          "output_type": "display_data",
          "data": {
            "text/plain": [
              "<Figure size 432x288 with 1 Axes>"
            ],
            "image/png": "[encoded data removed]"
          },
          "metadata": {
            "needs_background": "light"
          }
        }
      ]
    },
    {
      "cell_type": "markdown",
      "source": [
        "### **Hiring Firing Problem**\n"
      ],
      "metadata": {
        "id": "yQbEiuHr3NN_"
      }
    },
    {
      "cell_type": "code",
      "source": [
        "hired=0\n",
        "for i in range(0,1000):\n",
        "  best=0\n",
        "  for i in range(0,100):\n",
        "    lst.append(i)\n",
        "  shuffle(lst)\n",
        "  for i in range(0,100):\n",
        "    if lst[i]>best:\n",
        "      best=lst[i]\n",
        "      hired+=1\n",
        "print(hired/1000)"
      ],
      "metadata": {
        "colab": {
          "base_uri": "https://localhost:8080/"
        },
        "id": "_ouX_Nrg3Msn",
        "outputId": "82bf7536-ab32-4641-dec6-ae69fb89869b"
      },
      "execution_count": null,
      "outputs": [
        {
          "output_type": "stream",
          "name": "stdout",
          "text": [
            "4.609\n"
          ]
        }
      ]
    },
    {
      "cell_type": "markdown",
      "source": [
        "### **chair Problem**"
      ],
      "metadata": {
        "id": "oyy5XOYo6LGQ"
      }
    },
    {
      "cell_type": "code",
      "source": [
        "wcount=0\n",
        "for i in range(0,1000):\n",
        "  chair=[]\n",
        "  people=[]\n",
        "  for i in range(0,100):\n",
        "    chair.append(i)\n",
        "    people.append(i)\n",
        "  shuffle(chair)\n",
        "  shuffle(people)\n",
        "  for i in range(0,100):\n",
        "    if chair[i]==people[i]:\n",
        "      count+=1\n",
        "print(count/1000)"
      ],
      "metadata": {
        "colab": {
          "base_uri": "https://localhost:8080/"
        },
        "id": "4w2y49Zw6OY4",
        "outputId": "c61f9055-7e81-4e01-a8ff-209a0912e3c1"
      },
      "execution_count": null,
      "outputs": [
        {
          "output_type": "stream",
          "name": "stdout",
          "text": [
            "1.027\n"
          ]
        }
      ]
    },
    {
      "cell_type": "markdown",
      "source": [
        "### **Efficency Algorithms**<br>\n",
        "**scalar multiplication**"
      ],
      "metadata": {
        "id": "1hcrvssJUtRo"
      }
    },
    {
      "cell_type": "code",
      "source": [
        "# lst=[for j in range(100)[for i in range(100)]]\n",
        "lst = [[i for i in range(100)] for j in range(100)]\n",
        "# print(lst)\n",
        "scalar = 2\n",
        "bits=[]\n",
        "for k in range(256):\n",
        "  bits.append(k*scalar)\n",
        "\n",
        "for i in range(len(lst)):\n",
        "  for j in range(len(lst[i])):\n",
        "    lst[i][j]=bits[lst[i][j]]\n",
        "print(lst)\n"
      ],
      "metadata": {
        "id": "GPIXn5kNU6LS"
      },
      "execution_count": null,
      "outputs": []
    },
    {
      "cell_type": "markdown",
      "source": [
        "### **median**"
      ],
      "metadata": {
        "id": "wLkkvpzGYenQ"
      }
    },
    {
      "cell_type": "code",
      "source": [
        "\n",
        "def shuffle(lst):\n",
        "  for i in range (0,len(lst)-1):\n",
        "    x=random.randrange(i+1,len(lst))\n",
        "    lst[i],lst[x]=lst[x],lst[i]\n",
        "\n",
        "def medianmed(lst,ln):\n",
        "  group_by=(ln//5) \n",
        "  leftover_ele= ln%5\n",
        "  left=0\n",
        "  right=5\n",
        "  \n",
        "  for i in range(group_by):\n",
        "    new_l=lst[left:right]\n",
        "    new_l.sort()\n",
        "    lst[left:right]=new_l\n",
        "    left+=5\n",
        "    right+=5\n",
        "  new_l = lst[left:left+leftover_ele]\n",
        "  new_l.sort()\n",
        "  lst[left:right]=new_l\n",
        "\n",
        "  val=2\n",
        "  new_l = []\n",
        "  for i in range(group_by):\n",
        "    new_l.append(lst[val])\n",
        "    val+=5\n",
        "  new_index = (group_by)*5\n",
        "  print(lst[new_index:])\n",
        "  median = statistics.median(lst[new_index:])\n",
        "  new_l.append(median)\n",
        "  print(\"original list\",lst)\n",
        "  print(\"new list\",new_l)\n",
        "  \n",
        "  return new_l\n",
        "    \n",
        "\n",
        "lst=list(range(23))\n",
        "# shuffle(lst)\n",
        "# print(lst)\n",
        "while len(lst)>5:\n",
        "  ln = len(lst)\n",
        "  lst = medianmed(lst,ln)\n",
        "\n",
        "\n",
        "median=statistics.median(lst)\n",
        "print(median)\n",
        "  "
      ],
      "metadata": {
        "colab": {
          "base_uri": "https://localhost:8080/"
        },
        "id": "UpN0KoIFZ1mi",
        "outputId": "b9cb9210-f04c-4cea-cf6e-0fbc1b0d2431"
      },
      "execution_count": null,
      "outputs": [
        {
          "output_type": "stream",
          "name": "stdout",
          "text": [
            "[20, 21, 22]\n",
            "original list [0, 1, 2, 3, 4, 5, 6, 7, 8, 9, 10, 11, 12, 13, 14, 15, 16, 17, 18, 19, 20, 21, 22]\n",
            "new list [2, 7, 12, 17, 21]\n",
            "12\n"
          ]
        }
      ]
    },
    {
      "cell_type": "markdown",
      "source": [
        "### **Covlolution 1D**"
      ],
      "metadata": {
        "id": "DFDoWKXCf4dI"
      }
    },
    {
      "cell_type": "code",
      "source": [
        "lst = np.random.randint(255, size=150)\n",
        "lst = list(lst)\n",
        "shuffle(lst)\n",
        "# print(lst)\n",
        "lst = np.array(lst)\n",
        "new_lst = np.zeros(lst.shape,dtype='int')\n",
        "filter_size =13\n",
        "comparisons = 0\n",
        "lst = np.pad(lst,(filter_size//2,filter_size//2))\n",
        "print(lst)\n",
        "\n",
        "f_max = np.amax(lst[0:filter_size])   #first max\n",
        "index_max = np.argmax(lst[0:filter_size])\n",
        "comparisons+=filter_size-1\n",
        "print(index_max)\n",
        "new_lst[0] = f_max\n",
        "\n",
        "for i in range(1,len(new_lst)):\n",
        "  if index_max<i:\n",
        "    f_max = np.amax(lst[i:i+filter_size])   #first max\n",
        "    index_max = np.argmax(lst[i:i+filter_size])\n",
        "    new_lst[i] = f_max\n",
        "    comparisons+=filter_size-1\n",
        "  else:\n",
        "    if f_max>lst[i+filter_size-1]:\n",
        "      new_lst[i] = f_max\n",
        "    else:\n",
        "      f_max = lst[i+filter_size-1]\n",
        "      new_lst[i] = f_max\n",
        "      index_max = i+filter_size-1\n",
        "    comparisons+=1\n",
        "print(new_lst)\n",
        "print(\"current comparisons : \",comparisons)\n",
        "print(\"actual comparisons : \",len(new_lst)*(filter_size-1))"
      ],
      "metadata": {
        "id": "MBub7MN9f8iQ"
      },
      "execution_count": null,
      "outputs": []
    },
    {
      "cell_type": "code",
      "source": [
        "# def shuffle(lst):\n",
        "#   for i in range (0,len(lst)-1):\n",
        "#     x=random.randrange(i+1,len(lst))\n",
        "#     lst[i],lst[x]=lst[x],lst[i]\n",
        "\n",
        "# def medianmed(lst,ln):\n",
        "#   group_by=(ln//5) \n",
        "#   leftover_ele= ln%5\n",
        "#   left=0\n",
        "#   right=5\n",
        "#   val=2\n",
        "#   new_l = []  \n",
        "  \n",
        "#   lst[left:right] = sorted(lst[left:right])\n",
        "\n",
        "#   for i in range(group_by):\n",
        "#     lst[left:right] = sorted(lst[left:right])\n",
        "#     left+=5\n",
        "#     right+=5\n",
        "#     new_l.append(lst[(left+right)//2])\n",
        "#   if leftover_ele!=0:\n",
        "#     new_index = (group_by)*5\n",
        "#     new_l.append(statistics.median(lst[new_index:]))\n",
        "\n",
        "  \n",
        "#   print(\"original list\",lst)\n",
        "#   print(\"new list\",new_l)\n",
        "  \n",
        "#   return new_l\n",
        "    \n",
        "\n",
        "# lst=list(range(23))\n",
        "# shuffle(lst)\n",
        "# # print(lst)\n",
        "# # while len(lst)>5:\n",
        "# ln = len(lst)\n",
        "# lst = medianmed(lst,ln)\n",
        "\n",
        "\n",
        "# median=statistics.median(lst)\n",
        "# print(median)\n",
        "  "
      ],
      "metadata": {
        "colab": {
          "base_uri": "https://localhost:8080/"
        },
        "id": "p5Bd1jmsQwXz",
        "outputId": "33d65d59-dd76-4582-d45e-bd7a11f3b132"
      },
      "execution_count": null,
      "outputs": [
        {
          "output_type": "stream",
          "name": "stdout",
          "text": [
            "original list [3, 4, 10, 18, 21, 2, 8, 9, 17, 19, 1, 6, 7, 13, 16, 0, 5, 12, 15, 20, 22, 11, 14]\n",
            "new list [2, 1, 20, 14, 14]\n",
            "14\n"
          ]
        }
      ]
    }
  ],
  "metadata": {
    "colab": {
      "provenance": []
    },
    "kernelspec": {
      "display_name": "Python 3",
      "name": "python3"
    },
    "language_info": {
      "name": "python"
    }
  },
  "nbformat": 4,
  "nbformat_minor": 0
}